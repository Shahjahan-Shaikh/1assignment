{
 "cells": [
  {
   "cell_type": "code",
   "execution_count": 18,
   "id": "b0a0f6e1-0960-46ff-8be9-8a4e3e7eeb73",
   "metadata": {},
   "outputs": [
    {
     "name": "stdout",
     "output_type": "stream",
     "text": [
      "Value of x before swapping:  50\n",
      "Value of y before swapping:  100\n",
      "Value of x after swapping:  100\n",
      "Value of y after swapping:  50\n",
      "hello\n"
     ]
    }
   ],
   "source": [
    "#declaring the variable and assignning integer values to those variable where x is 50 and y is 100\n",
    "x=50\n",
    "y=100\n",
    "#printing the value of x and y before swapping\n",
    "print(\"Value of x before swapping: \" ,x)\n",
    "print(\"Value of y before swapping: \" ,y)\n",
    "\n",
    "#using arithmatic operator to swap the values of x and y\n",
    "x=x+y #adding x and y and storing the new value in x variable,here x became 150\n",
    "y=x-y #subtracting y from x and storing new value in y variable,here y became 50\n",
    "x=x-y #subtracting y from x and storing new value in x variable,here x became 100\n",
    "#printing the new x and y after swapping their value\n",
    "print(\"Value of x after swapping: \",x)\n",
    "print(\"Value of y after swapping: \",y)"
   ]
  },
  {
   "cell_type": "markdown",
   "id": "af4aa7c8-ae78-4cab-8389-0496543d6abb",
   "metadata": {},
   "source": [
    "explanation:\n",
    "first i declared variable x and y then stored 50 in x and 100 in y then printed the current value of variables.\n",
    "then added variable x and y and stored in x\n",
    "then subtracted variable y from x then stored in y\n",
    "then subtracted y from x and stored in x"
   ]
  },
  {
   "cell_type": "markdown",
   "id": "2bf7049e-7460-410a-bd58-36e4895f2a81",
   "metadata": {},
   "source": [
    "2.."
   ]
  },
  {
   "cell_type": "code",
   "execution_count": 9,
   "id": "2bcec943-3685-4f7a-8621-2db39992d2ba",
   "metadata": {},
   "outputs": [
    {
     "name": "stdin",
     "output_type": "stream",
     "text": [
      "Enter the length of rectangle:  10\n",
      "Enter the width of rectangle:  20\n"
     ]
    },
    {
     "name": "stdout",
     "output_type": "stream",
     "text": [
      "Area of rectangle is:  200.0\n"
     ]
    }
   ],
   "source": [
    "#Taking input from user and store them in Length and Width \n",
    "Length=float(input(\"Enter the length of rectangle: \"))\n",
    "Width=float(input(\"Enter the width of rectangle: \"))\n",
    "#applying the formula area=length*width and storing in variable \"Area\"\n",
    "Area=Length*Width\n",
    "#printing the result\n",
    "print(\"Area of rectangle is: \",Area)"
   ]
  },
  {
   "cell_type": "markdown",
   "id": "cc308f3b-4308-458c-8bf9-593fa79b9f9d",
   "metadata": {},
   "source": [
    "explanation:\n",
    "First i created 2 variables Length and Width of type float and used input function to take user input \n",
    "then used area=lenght*width formula to calculate the area of rectangle\n",
    "at the end i printed the value of variable Area\n",
    "\n",
    "\n",
    "\n"
   ]
  },
  {
   "cell_type": "markdown",
   "id": "daeb8298-9833-4a79-9d26-c6a43194aba8",
   "metadata": {},
   "source": [
    "3..."
   ]
  },
  {
   "cell_type": "code",
   "execution_count": 10,
   "id": "0eeab97d-c8e7-4556-a544-3483a4acac31",
   "metadata": {},
   "outputs": [
    {
     "name": "stdout",
     "output_type": "stream",
     "text": [
      "This program will convert temprature from Celsius to Fahrenheit\n"
     ]
    },
    {
     "name": "stdin",
     "output_type": "stream",
     "text": [
      "Enetr the temprature in celsius:  49\n"
     ]
    },
    {
     "name": "stdout",
     "output_type": "stream",
     "text": [
      "Fahrenheit of 49.0 Celsius is : 120.2 Fahrenheit\n"
     ]
    }
   ],
   "source": [
    "print(\"This program will convert temprature from Celsius to Fahrenheit\")\n",
    "#taking input from user and storing it in variable Celsius\n",
    "Celsius=float(input(\"Enetr the temprature in celsius: \"))\n",
    "#using formula (celsius *9/5)+32\n",
    "Fahrenheit=(Celsius * 9/5)+32\n",
    "#printing the result of above formula\n",
    "print(f\"Fahrenheit of {Celsius} Celsius is : {Fahrenheit} Fahrenheit\")\n",
    "\n"
   ]
  },
  {
   "cell_type": "markdown",
   "id": "95fd597e-9c55-4992-9ab2-ad4755c61ff1",
   "metadata": {},
   "source": [
    "Explanation: I started with heading \"This program will convert temprature from Celsius to Fahrenheit\"\n",
    "then took user input as a floating integer and applied the formula (Celsius * 9/5)+32 and then stored the result into variable Fahrenheit at the end i printed the result "
   ]
  },
  {
   "cell_type": "markdown",
   "id": "23bc002f-3974-4c7c-a395-44a8ebc4f951",
   "metadata": {},
   "source": [
    "string based question..\n"
   ]
  },
  {
   "cell_type": "markdown",
   "id": "7273fbb8-acc2-4976-aa66-28b707219205",
   "metadata": {},
   "source": [
    "1.."
   ]
  },
  {
   "cell_type": "code",
   "execution_count": 11,
   "id": "0a0c115f-5e7e-4267-9bcc-04e8a7749389",
   "metadata": {},
   "outputs": [
    {
     "name": "stdin",
     "output_type": "stream",
     "text": [
      "Enter the string to check its length:  ssss\n"
     ]
    },
    {
     "name": "stdout",
     "output_type": "stream",
     "text": [
      "4\n"
     ]
    }
   ],
   "source": [
    "#taking input from user\n",
    "Q=input(\"Enter the string to check its length: \")\n",
    "#using len() function to display the elngth of string\n",
    "print(len(Q))        "
   ]
  },
  {
   "cell_type": "markdown",
   "id": "c323529a-01ff-4305-9881-8f48fb50043b",
   "metadata": {},
   "source": [
    "Explanation:here i used input function to take input from user then used len() function to check number of characters in string then print() function to print the number of character in string"
   ]
  },
  {
   "cell_type": "markdown",
   "id": "7888ad3d-d6f4-45da-a5c0-cfd72d7e7679",
   "metadata": {},
   "source": [
    "2.."
   ]
  },
  {
   "cell_type": "code",
   "execution_count": 12,
   "id": "8ecff7a4-70b1-4423-8f6a-1bef78d645a2",
   "metadata": {},
   "outputs": [
    {
     "name": "stdin",
     "output_type": "stream",
     "text": [
      "enter your string:  happy birthday to you\n"
     ]
    },
    {
     "name": "stdout",
     "output_type": "stream",
     "text": [
      "6\n"
     ]
    }
   ],
   "source": [
    "#variable string_vowels is created to store the string entered by the user\n",
    "string_vowels=input(\"enter your string: \")\n",
    "#vowels are declared in list name Vowels\n",
    "Vowels =['a','e','i','o','u','A','E','I','O','U']\n",
    "#count variable is created to store the 1 increment every time below statement is satisfied\n",
    "count=0\n",
    "#for loop is created to traverse both string and list\n",
    "for i in string_vowels:\n",
    "    if i in Vowels:#if vowels are detected then if satement will increment 1 in count\n",
    "        count+=1\n",
    "print(count)        "
   ]
  },
  {
   "cell_type": "markdown",
   "id": "ffc5c4af-29df-4010-ab31-34fc0fb3d95a",
   "metadata": {},
   "source": [
    "'''first i created string_vowels variable and used input() to take value from user then i created a list that stores \n",
    "all vowels then a variable count to store number of vowels after execution A for loop is used to traverse \n",
    "through string and list then if statement is used that increment 1 in count when it is true at the end print\n",
    "count is used to dispaly number of vowels'''\n",
    "\n"
   ]
  },
  {
   "cell_type": "markdown",
   "id": "6c720451-d3a1-41fa-be7d-15f58781d670",
   "metadata": {},
   "source": [
    "3.."
   ]
  },
  {
   "cell_type": "code",
   "execution_count": 13,
   "id": "efc01426-f851-4456-8404-f24427e0c149",
   "metadata": {},
   "outputs": [
    {
     "name": "stdout",
     "output_type": "stream",
     "text": [
      "elppa\n"
     ]
    }
   ],
   "source": [
    "#apple is stored in string simple\n",
    "simple=\"apple\"\n",
    "#using slicing ::-1 the string is printed reverse \n",
    "print(simple[::-1])\n"
   ]
  },
  {
   "cell_type": "markdown",
   "id": "6ace3485-e279-4c56-a914-b87717ac9f05",
   "metadata": {},
   "source": [
    "Explanation:first i have created variable simple and stored apple in it then used a slicing function ::-1 \n",
    "where :: means start and end point if it not defined then it uses the default start stop and -1 mean jumps reverse "
   ]
  },
  {
   "cell_type": "code",
   "execution_count": 14,
   "id": "50b90fac-b8fa-4a89-80a1-389faf56a8b4",
   "metadata": {},
   "outputs": [
    {
     "name": "stdin",
     "output_type": "stream",
     "text": [
      "Enter the string to verify if it is palindrome :  racar\n"
     ]
    },
    {
     "name": "stdout",
     "output_type": "stream",
     "text": [
      "It is a palindrome\n"
     ]
    }
   ],
   "source": [
    "#taking input from user and storing in variable string\n",
    "string = input(\"Enter the string to verify if it is palindrome : \")\n",
    "#removing all empty spaces\n",
    "string2 = string.replace(\" \",\"\")\n",
    "#converting into lowercase\n",
    "string2 = string.lower()\n",
    "#reversing the string that is given by user\n",
    "Reverse = string2[::-1]\n",
    "#using if else stateent to compare string 'Reverse' and 'string2'\n",
    "if Reverse==string2:\n",
    "    print(\"It is a palindrome\")\n",
    "    \n",
    "else:\n",
    "    print(\"The given string is not palindrome\")\n"
   ]
  },
  {
   "cell_type": "markdown",
   "id": "3df67e15-b4b5-462d-800c-c28cd33698ca",
   "metadata": {
    "jupyter": {
     "source_hidden": true
    },
    "tags": []
   },
   "source": [
    "Explanation: first i took a string from user by input function then removed all the empty spaces from that string and converted it to lowercase then used '::-1' to reverse the string after that i used if else statement to check if the string given by user and reversed string is similar if it is then print it is palindrome else print it is not palindrome"
   ]
  },
  {
   "cell_type": "markdown",
   "id": "1a96f224-2c62-47a8-b20f-1ccc80af7c91",
   "metadata": {},
   "source": [
    "5.."
   ]
  },
  {
   "cell_type": "code",
   "execution_count": 15,
   "id": "26a05a3f-a838-4cf9-a239-742a3cb9fca4",
   "metadata": {},
   "outputs": [
    {
     "name": "stdin",
     "output_type": "stream",
     "text": [
      "Enter a string:  sir give me full marks plz\n"
     ]
    },
    {
     "name": "stdout",
     "output_type": "stream",
     "text": [
      "sirgivemefullmarksplz\n"
     ]
    }
   ],
   "source": [
    "#taking input from user that contains spaces\n",
    "user_string=input(\"Enter a string: \")\n",
    "#using .replace function to remove all empty spaces \n",
    "nospace_string = user_string.replace(\" \",\"\")\n",
    "#printing the modified string without spaces\n",
    "print(nospace_string)"
   ]
  },
  {
   "cell_type": "markdown",
   "id": "952e3d04-ead4-4fa5-bf55-f044ab070a34",
   "metadata": {},
   "source": [
    "Explanation: first i took an string with spaces from user and then used '.replace' function  in replace function i replaced \" \" with \"\" and stored it in variable nospace_string and print the nospace_string "
   ]
  },
  {
   "cell_type": "markdown",
   "id": "0fb64ece-4c37-4989-88d6-32d986d8213b",
   "metadata": {},
   "source": [
    "6.."
   ]
  },
  {
   "cell_type": "code",
   "execution_count": 7,
   "id": "17d507cb-2814-474d-8df4-97bd6f5186ff",
   "metadata": {},
   "outputs": [
    {
     "name": "stdout",
     "output_type": "stream",
     "text": [
      "hello\n"
     ]
    }
   ],
   "source": []
  },
  {
   "cell_type": "code",
   "execution_count": null,
   "id": "d45a2031-29ae-446f-8a1e-67c094d9fe77",
   "metadata": {},
   "outputs": [],
   "source": []
  }
 ],
 "metadata": {
  "kernelspec": {
   "display_name": "Python 3 (ipykernel)",
   "language": "python",
   "name": "python3"
  },
  "language_info": {
   "codemirror_mode": {
    "name": "ipython",
    "version": 3
   },
   "file_extension": ".py",
   "mimetype": "text/x-python",
   "name": "python",
   "nbconvert_exporter": "python",
   "pygments_lexer": "ipython3",
   "version": "3.10.8"
  }
 },
 "nbformat": 4,
 "nbformat_minor": 5
}
